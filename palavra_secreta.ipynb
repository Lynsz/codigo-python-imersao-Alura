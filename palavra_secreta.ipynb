{
  "nbformat": 4,
  "nbformat_minor": 0,
  "metadata": {
    "colab": {
      "provenance": [],
      "authorship_tag": "ABX9TyOESzfam9nB38L2WSfT8r8I",
      "include_colab_link": true
    },
    "kernelspec": {
      "name": "python3",
      "display_name": "Python 3"
    },
    "language_info": {
      "name": "python"
    }
  },
  "cells": [
    {
      "cell_type": "markdown",
      "metadata": {
        "id": "view-in-github",
        "colab_type": "text"
      },
      "source": [
        "<a href=\"https://colab.research.google.com/github/Lynsz/codigo-python-imersao-Alura/blob/main/palavra_secreta.ipynb\" target=\"_parent\"><img src=\"https://colab.research.google.com/assets/colab-badge.svg\" alt=\"Open In Colab\"/></a>"
      ]
    },
    {
      "cell_type": "code",
      "execution_count": null,
      "metadata": {
        "id": "syMHdzd-BLVx",
        "colab": {
          "base_uri": "https://localhost:8080/"
        },
        "outputId": "833a8b1f-e775-4bbb-b6a9-cf93a80f6464"
      },
      "outputs": [
        {
          "output_type": "stream",
          "name": "stdout",
          "text": [
            "A palavra secreta tem 2 letras\n",
            "A dica é -> desenvolver aplicações windows e jogos utilizando o framework .net.\n",
            "O que você acha que é c#\n",
            "Acertou\n"
          ]
        }
      ],
      "source": [
        "import requests  # Importa o módulo requests para fazer requisições HTTP\n",
        "import random  # Importa o módulo random para gerar números aleatórios\n",
        "\n",
        "# URL da API que contém as palavras e dicas\n",
        "url = 'https://raw.githubusercontent.com/guilhermeonrails/api-imersao-ia/main/words.json'\n",
        "\n",
        "# Faz uma requisição GET para a URL da API e armazena a resposta\n",
        "resposta = requests.get(url)\n",
        "\n",
        "# Converte a resposta para JSON e armazena os dados\n",
        "data = resposta.json()\n",
        "\n",
        "# Obtém o tamanho da lista de dados JSON\n",
        "tamanho_lista = len(data)\n",
        "\n",
        "# Seleciona aleatoriamente um item da lista de dados JSON\n",
        "valor_secreto = random.choice(data)\n",
        "\n",
        "# Extrai a palavra secreta do item selecionado aleatoriamente\n",
        "palavra_secreta = valor_secreto['palavra']\n",
        "\n",
        "# Extrai a dica associada à palavra secreta\n",
        "dica = valor_secreto['dica']\n",
        "\n",
        "# Imprime a mensagem indicando a quantidade de letras na palavra secreta e a dica, imprime a mensagem com formatação f-string\n",
        "# O 'f' antes das aspas permite a interpolação de variáveis e palavras\n",
        "# As chaves {} dentro da string representam onde serão inseridos os valores dinâmicos\n",
        "#print(f'A palavra secreta tem {len(palavra_secreta)} letras -> {dica}')\n",
        "#receber um chute ou palpite da tecnologia\n",
        "print(f'A palavra secreta tem {len(palavra_secreta)} letras')\n",
        "print(f'A dica é -> {dica}')\n",
        "chute = input('O que você acha que é ')\n",
        "if chute == palavra_secreta:\n",
        "  print('Acertou!')\n",
        "else:\n",
        "  print(f'Errou! a palavra secreta era {palavra_secreta}')"
      ]
    }
  ]
}