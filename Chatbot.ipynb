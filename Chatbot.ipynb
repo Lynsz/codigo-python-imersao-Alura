{
  "nbformat": 4,
  "nbformat_minor": 0,
  "metadata": {
    "colab": {
      "provenance": [],
      "authorship_tag": "ABX9TyNp5EhlvmR5VCseLvPFrf1T",
      "include_colab_link": true
    },
    "kernelspec": {
      "name": "python3",
      "display_name": "Python 3"
    },
    "language_info": {
      "name": "python"
    }
  },
  "cells": [
    {
      "cell_type": "markdown",
      "metadata": {
        "id": "view-in-github",
        "colab_type": "text"
      },
      "source": [
        "<a href=\"https://colab.research.google.com/github/Lynsz/codigo-python-imersao-Alura/blob/main/Chatbot.ipynb\" target=\"_parent\"><img src=\"https://colab.research.google.com/assets/colab-badge.svg\" alt=\"Open In Colab\"/></a>"
      ]
    },
    {
      "cell_type": "markdown",
      "source": [
        "Instalando o SDK do Google\n",
        "\n"
      ],
      "metadata": {
        "id": "Iz6FmrVfcify"
      }
    },
    {
      "cell_type": "code",
      "execution_count": null,
      "metadata": {
        "id": "-IPgkIWBJOta"
      },
      "outputs": [],
      "source": [
        "!pip install -q -U google-generativeai"
      ]
    },
    {
      "cell_type": "code",
      "source": [
        "import google.generativeai as genai\n",
        "\n",
        "from google.colab import userdata\n",
        "api_key =userdata.get(\"SECRET_KEY\")\n",
        "genai.configure(api_key=api_key)"
      ],
      "metadata": {
        "id": "aLm1KW4lbyqN"
      },
      "execution_count": null,
      "outputs": []
    },
    {
      "cell_type": "markdown",
      "source": [
        "Listar os modelos disponíveis"
      ],
      "metadata": {
        "id": "WECnM7fEczBx"
      }
    },
    {
      "cell_type": "code",
      "source": [
        "for m in genai.list_models():\n",
        "  if 'generateContent' in m.supported_generation_methods:\n",
        "    print(m.name)"
      ],
      "metadata": {
        "colab": {
          "base_uri": "https://localhost:8080/",
          "height": 146
        },
        "id": "xnhGEPHjcgN3",
        "outputId": "74b0b2ab-a0c8-4406-cb86-c9a9acd20cf0"
      },
      "execution_count": null,
      "outputs": [
        {
          "output_type": "stream",
          "name": "stdout",
          "text": [
            "models/gemini-1.0-pro\n",
            "models/gemini-1.0-pro-001\n",
            "models/gemini-1.0-pro-latest\n",
            "models/gemini-1.0-pro-vision-latest\n",
            "models/gemini-1.5-pro-latest\n",
            "models/gemini-pro\n",
            "models/gemini-pro-vision\n"
          ]
        }
      ]
    },
    {
      "cell_type": "markdown",
      "source": [
        "Temperatura = mais conservador ou mais descontraído"
      ],
      "metadata": {
        "id": "40tVlRgqgHgT"
      }
    },
    {
      "cell_type": "code",
      "source": [
        "generation_config = {\n",
        "    \"candidate_count\": 1,\n",
        "    \"temperature\": 0.5,\n",
        "}"
      ],
      "metadata": {
        "id": "N0ntR1YVepYF"
      },
      "execution_count": null,
      "outputs": []
    },
    {
      "cell_type": "markdown",
      "source": [
        "Configurações de segurança"
      ],
      "metadata": {
        "id": "-JLnE1hegVnB"
      }
    },
    {
      "cell_type": "code",
      "source": [
        "safety_settings = {\n",
        "    \"HARASSMENT\": \"BLOCK_NONE\",\n",
        "    \"HATE\": \"BLOCK_NONE\",\n",
        "    \"SEXUAL\": \"BLOCK_NONE\",\n",
        "    \"DANGEROUS\": \"BLOCK_NONE\",\n",
        "\n",
        "}"
      ],
      "metadata": {
        "id": "B8y_0n6UfI8B"
      },
      "execution_count": null,
      "outputs": []
    },
    {
      "cell_type": "markdown",
      "source": [
        "Inicializando o modelo"
      ],
      "metadata": {
        "id": "nnkGfljiglMA"
      }
    },
    {
      "cell_type": "code",
      "source": [
        "model = genai.GenerativeModel(model_name=\"gemini-1.0-pro\",\n",
        "                               generation_config = generation_config,\n",
        "                               safety_settings=safety_settings)"
      ],
      "metadata": {
        "id": "xHP2hEH1gjCt"
      },
      "execution_count": null,
      "outputs": []
    },
    {
      "cell_type": "code",
      "source": [
        "response = model.generate_content(\"Vamos aprender conteúdo sobre IA. Me dê sugestões.\")\n",
        "print(response.text)"
      ],
      "metadata": {
        "colab": {
          "base_uri": "https://localhost:8080/",
          "height": 903
        },
        "id": "wJc6wEHXpbpw",
        "outputId": "b0354db3-b7c4-40b9-a107-21374e8fa78b"
      },
      "execution_count": null,
      "outputs": [
        {
          "output_type": "stream",
          "name": "stdout",
          "text": [
            "**Conceitos Fundamentais**\n",
            "\n",
            "* Aprendizado de Máquina\n",
            "* Redes Neurais\n",
            "* Processamento de Linguagem Natural\n",
            "* Visão Computacional\n",
            "* Aprendizado Profundo\n",
            "\n",
            "**Tipos de IA**\n",
            "\n",
            "* IA Fraca (IA Estreita)\n",
            "* IA Forte (IA Geral)\n",
            "* Superinteligência Artificial\n",
            "\n",
            "**Aplicações da IA**\n",
            "\n",
            "* Automação de Processos\n",
            "* Análise Preditiva\n",
            "* Reconhecimento de Padrões\n",
            "* Detecção de Fraudes\n",
            "* Diagnóstico Médico\n",
            "\n",
            "**Ética e Implicações Sociais da IA**\n",
            "\n",
            "* Preconceito e Discriminação\n",
            "* Perda de Empregos\n",
            "* Privacidade e Segurança\n",
            "* Responsabilidade e Regulamentação\n",
            "\n",
            "**Recursos de Aprendizagem**\n",
            "\n",
            "* **Cursos Online:** Coursera, edX, Udemy\n",
            "* **Livros:** \"Inteligência Artificial: Uma Abordagem Moderna\" (Stuart Russell e Peter Norvig), \"Aprendizado de Máquina\" (Tom Mitchell)\n",
            "* **Artigos Acadêmicos:** IEEE Transactions on Artificial Intelligence, Journal of Machine Learning Research\n",
            "* **Conferências e Eventos:** NeurIPS, ICML, CVPR\n",
            "\n",
            "**Ferramentas e Bibliotecas**\n",
            "\n",
            "* **Bibliotecas de Aprendizado de Máquina:** TensorFlow, PyTorch, scikit-learn\n",
            "* **Ferramentas de Visão Computacional:** OpenCV, Keras-CV\n",
            "* **Ferramentas de Processamento de Linguagem Natural:** NLTK, spaCy\n",
            "\n",
            "**Tendências e Pesquisas Atuais**\n",
            "\n",
            "* Aprendizado por Reforço\n",
            "* Aprendizado Federado\n",
            "* IA Explicável\n",
            "* IA Ética e Responsável\n"
          ]
        }
      ]
    },
    {
      "cell_type": "code",
      "source": [
        "chat = model.start_chat(history=[])"
      ],
      "metadata": {
        "id": "nyt6vfQtqe3y"
      },
      "execution_count": null,
      "outputs": []
    },
    {
      "cell_type": "code",
      "source": [
        "prompt = input(\"Esperando prompt: \")\n",
        "\n",
        "while prompt != \"fim\":\n",
        "  response = chat.send_message(prompt)\n",
        "  print(\"resposta: \", response.text, \"\\n\" )\n",
        "  prompt = input(\"Esperando prompt: \")"
      ],
      "metadata": {
        "colab": {
          "base_uri": "https://localhost:8080/"
        },
        "id": "ez7R4xDGq3gG",
        "outputId": "c090ec7d-86d9-42e3-c0a3-e91987f52257"
      },
      "execution_count": null,
      "outputs": [
        {
          "name": "stdout",
          "output_type": "stream",
          "text": [
            "Esperando prompt: fim\n"
          ]
        }
      ]
    },
    {
      "cell_type": "code",
      "source": [
        "#Melhorando a visualização\n",
        "#Código disponível em https://ai.google.dev/tutorials/python_quickstart#import_packages\n",
        "import textwrap\n",
        "from IPython.display import display\n",
        "from IPython.display import Markdown\n",
        "\n",
        "def to_markdown(text):\n",
        "  text = text.replace('•', '  *')\n",
        "  return Markdown(textwrap.indent(text, '> ', predicate=lambda _: True))\n",
        "\n",
        "#Imprimindo o histórico\n",
        "for message in chat.history:\n",
        "  display(to_markdown(f'**{message.role}**: {message.parts[0].text}'))\n",
        "  print('-------------------------------------------')"
      ],
      "metadata": {
        "id": "uk0HWK8SwXYQ"
      },
      "execution_count": null,
      "outputs": []
    }
  ]
}